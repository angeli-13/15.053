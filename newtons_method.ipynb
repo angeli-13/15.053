{
 "cells": [
  {
   "cell_type": "code",
   "execution_count": 1,
   "metadata": {},
   "outputs": [
    {
     "name": "stdout",
     "output_type": "stream",
     "text": [
      "Requirement already satisfied: numpy in /Library/Frameworks/Python.framework/Versions/3.10/lib/python3.10/site-packages (1.25.2)\n",
      "\u001b[33mWARNING: There was an error checking the latest version of pip.\u001b[0m\u001b[33m\n",
      "\u001b[0mRequirement already satisfied: matplotlib in /Library/Frameworks/Python.framework/Versions/3.10/lib/python3.10/site-packages (3.7.3)\n",
      "Requirement already satisfied: contourpy>=1.0.1 in /Library/Frameworks/Python.framework/Versions/3.10/lib/python3.10/site-packages (from matplotlib) (1.1.0)\n",
      "Requirement already satisfied: cycler>=0.10 in /Library/Frameworks/Python.framework/Versions/3.10/lib/python3.10/site-packages (from matplotlib) (0.11.0)\n",
      "Requirement already satisfied: fonttools>=4.22.0 in /Library/Frameworks/Python.framework/Versions/3.10/lib/python3.10/site-packages (from matplotlib) (4.42.1)\n",
      "Requirement already satisfied: kiwisolver>=1.0.1 in /Library/Frameworks/Python.framework/Versions/3.10/lib/python3.10/site-packages (from matplotlib) (1.4.5)\n",
      "Requirement already satisfied: numpy<2,>=1.20 in /Library/Frameworks/Python.framework/Versions/3.10/lib/python3.10/site-packages (from matplotlib) (1.25.2)\n",
      "Requirement already satisfied: packaging>=20.0 in /Users/mac-air/Library/Python/3.10/lib/python/site-packages (from matplotlib) (23.1)\n",
      "Requirement already satisfied: pillow>=6.2.0 in /Library/Frameworks/Python.framework/Versions/3.10/lib/python3.10/site-packages (from matplotlib) (10.0.0)\n",
      "Requirement already satisfied: pyparsing>=2.3.1 in /Library/Frameworks/Python.framework/Versions/3.10/lib/python3.10/site-packages (from matplotlib) (3.0.9)\n",
      "Requirement already satisfied: python-dateutil>=2.7 in /Users/mac-air/Library/Python/3.10/lib/python/site-packages (from matplotlib) (2.8.2)\n",
      "Requirement already satisfied: six>=1.5 in /Users/mac-air/Library/Python/3.10/lib/python/site-packages (from python-dateutil>=2.7->matplotlib) (1.16.0)\n",
      "\u001b[33mWARNING: There was an error checking the latest version of pip.\u001b[0m\u001b[33m\n",
      "\u001b[0m"
     ]
    }
   ],
   "source": [
    "!pip install numpy\n",
    "!pip install matplotlib"
   ]
  },
  {
   "cell_type": "code",
   "execution_count": 2,
   "metadata": {},
   "outputs": [],
   "source": [
    "import ipywidgets as widgets\n",
    "from IPython.display import display, clear_output"
   ]
  },
  {
   "cell_type": "code",
   "execution_count": 3,
   "metadata": {},
   "outputs": [
    {
     "data": {
      "text/markdown": [
       "Newton's Method, also known as the Newton-Raphson method, is an iterative numerical technique for finding the roots of a real-valued function. The basic idea is to start with an initial guess for a root of the function and then refine that guess by using the derivative of the function.\n",
       "\n",
       "Here are the key steps of Newton's Method:\n",
       "\n",
       "1. **Select an Initial Guess:**\n",
       "   Choose an initial guess \\( x_0 \\) close to the root you want to find. The method is sensitive to the choice of the initial guess, and a good initial guess is often crucial for convergence.\n",
       "\n",
       "2. **Formulate the Iterative Rule:**\n",
       "   The iterative rule for Newton's Method is given by:\n",
       "   \\[ x_{n+1} = x_n - \\frac{f(x_n)}{f'(x_n)} \\]\n",
       "   where:\n",
       "   - \\( x_{n+1} \\) is the next approximation of the root.\n",
       "   - \\( x_n \\) is the current approximation.\n",
       "   - \\( f(x_n) \\) is the function value at \\( x_n \\).\n",
       "   - \\( f'(x_n) \\) is the derivative of the function at \\( x_n \\).\n",
       "\n",
       "3. **Iterate:**\n",
       "   Repeat the iterative rule to generate a sequence of approximations:\n",
       "   \\[ x_1, x_2, x_3, \\ldots, x_n, \\ldots \\]\n",
       "\n",
       "4. **Convergence Check:**\n",
       "   Continue iterating until one of the convergence criteria is met. Common criteria include reaching a certain number of iterations or achieving a small enough tolerance (i.e., \\( |f(x_n)| < \\text{Tolerance} \\)).\n",
       "\n",
       "5. **Root Found:**\n",
       "   The final \\( x_n \\) is an approximation of the root of the function.\n",
       "\n",
       "Newton's Method is effective when the initial guess is close to the actual root, and the function behaves well in the vicinity of the root. However, it may fail to converge or converge to a different root if the initial guess is not chosen carefully or if the function has certain characteristics (e.g., multiple roots, singularities, oscillations).\n",
       "\n",
       "Despite its limitations, Newton's Method is widely used for its fast convergence when it works and its applicability to a wide range of functions."
      ]
     },
     "metadata": {},
     "output_type": "display_data"
    }
   ],
   "source": [
    "# Explain Newton's Method to me \n",
    "from IPython.display import display_markdown\n",
    "explanation = open('newton_explanation.txt').read()\n",
    "display_markdown(explanation, raw=True)"
   ]
  },
  {
   "cell_type": "code",
   "execution_count": 4,
   "metadata": {},
   "outputs": [],
   "source": [
    "import numpy as np\n",
    "import matplotlib.pyplot as plt\n",
    "\n",
    "def newtons_method(initial_guess, f, f_prime, iteration): \n",
    "    current_x = initial_guess\n",
    "    current_y = f(current_x)\n",
    "    current_slope = f_prime(current_x)\n",
    "    next_guess = current_x - current_y / current_slope\n",
    "    return next_guess\n",
    "\n",
    "def newtons_method_visualization(initial_guess, f, f_prime, iteration, x_range=np.linspace(0,0,0)):\n",
    "    x_values = [initial_guess]\n",
    "    \n",
    "    current_x = x_values[-1]\n",
    "    current_y = f(current_x)\n",
    "    current_slope = f_prime(current_x)\n",
    "\n",
    "    # Plotting the function and its derivative\n",
    "    if not x_range.any():\n",
    "        x_range = np.linspace(current_x - 2, current_x + 2, 100)\n",
    "    y_values = f(x_range)\n",
    "    \n",
    "    plt.plot(x_range, y_values, label='Function')\n",
    "    arrow_start = (current_x, current_y)\n",
    "    arrow_end = (current_x - current_y / current_slope, 0)\n",
    "    plt.arrow(*arrow_start, arrow_end[0] - arrow_start[0], arrow_end[1] - arrow_start[1], label='Tangent Line at x={:.4f}'.format(current_x), linestyle='dotted')\n",
    "    \n",
    "    plt.scatter(current_x, current_y, color='red', marker='o', label='Current Guess')\n",
    "    plt.axhline(0, color='black', linestyle='--', linewidth=0.5)\n",
    "    \n",
    "    # Finding the intersection point with the x-axis\n",
    "    next_guess = current_x - current_y / current_slope\n",
    "    next_point = (next_guess, f(next_guess))\n",
    "    plt.scatter(next_guess, f(next_guess), color='green', marker='x', label=f'Next Guess at ({next_guess:.4f}, {f(next_guess):.4f})')\n",
    "    plt.arrow(*arrow_end, next_point[0]-arrow_end[0], next_point[1]-arrow_end[1], linestyle='dotted')\n",
    "    \n",
    "    plt.title(f'Newton\\'s Method Visualization - Iteration {iteration}')\n",
    "    plt.xlabel('x')\n",
    "    plt.ylabel('f(x)')\n",
    "    plt.legend()\n",
    "    plt.grid(True)\n",
    "    plt.show()\n"
   ]
  },
  {
   "cell_type": "code",
   "execution_count": 5,
   "metadata": {},
   "outputs": [],
   "source": [
    "import numpy as np\n",
    "import matplotlib.pyplot as plt\n",
    "\n",
    "def newtons_method(initial_guess, f, f_prime, iteration): \n",
    "    current_x = initial_guess\n",
    "    current_y = f(current_x)\n",
    "    current_slope = f_prime(current_x)\n",
    "    next_guess = current_x - current_y / current_slope\n",
    "    return next_guess\n",
    "\n",
    "def newtons_method_visualization(initial_guess, f, f_prime, iteration, x_range=np.linspace(0,0,0)):\n",
    "    x_values = [initial_guess]\n",
    "    \n",
    "    current_x = x_values[-1]\n",
    "    current_y = f(current_x)\n",
    "    current_slope = f_prime(current_x)\n",
    "    next_guess = current_x - current_y / current_slope\n",
    "    next_point = (next_guess, f(next_guess))\n",
    "\n",
    "    # Plotting the function and its derivative\n",
    "    if not x_range.any():\n",
    "        x_range = np.linspace((current_x + next_guess)/2-2, (current_x + next_guess)/2+2, 100)\n",
    "    elif current_x < x_range[0] or next_guess < x_range[0]: \n",
    "        x_range = np.linspace(min(current_x, next_guess, x_range[0])-1, x_range[1], 100)\n",
    "    elif current_x > x_range[1] or next_guess > x_range[1]: \n",
    "        x_range = np.linspace(x_range[0], max(current_x, next_guess, x_range[1])+1, 100)\n",
    "    y_values = f(x_range)\n",
    "    \n",
    "    plt.plot(x_range, y_values, label='Function')\n",
    "    arrow_start = (current_x, current_y)\n",
    "    arrow_end = (current_x - current_y / current_slope, 0)\n",
    "    plt.arrow(*arrow_start, arrow_end[0] - arrow_start[0], arrow_end[1] - arrow_start[1], label='Tangent Line at x={:.4f}'.format(current_x), linestyle='dotted')\n",
    "    \n",
    "    plt.scatter(current_x, current_y, color='red', marker='o', label='Current Guess')\n",
    "    plt.axhline(0, color='black', linestyle='--', linewidth=0.5)\n",
    "    \n",
    "    # Finding the intersection point with the x-axis\n",
    "    plt.scatter(next_guess, f(next_guess), color='green', marker='x', label=f'Next Guess at ({next_guess:.4f}, {f(next_guess):.4f})')\n",
    "    plt.arrow(*arrow_end, next_point[0]-arrow_end[0], next_point[1]-arrow_end[1], linestyle='dotted')\n",
    "    \n",
    "    plt.title(f'Newton\\'s Method Visualization - Iteration {iteration}')\n",
    "    plt.xlabel('x')\n",
    "    plt.ylabel('f(x)')\n",
    "    plt.legend(loc='upper left', bbox_to_anchor=(1, 1))\n",
    "    plt.grid(True)\n",
    "    plt.show()\n"
   ]
  },
  {
   "cell_type": "markdown",
   "metadata": {},
   "source": [
    "## Newton's Method with: \n",
    "$$f(x) = x^2 -2$$ \n",
    "$$f'(x) = 2x$$\n",
    "Initial Guess: $$x = 2.5$$"
   ]
  },
  {
   "cell_type": "code",
   "execution_count": 11,
   "metadata": {},
   "outputs": [
    {
     "data": {
      "application/vnd.jupyter.widget-view+json": {
       "model_id": "e51dbf7edf0240fe985802484d01cdcf",
       "version_major": 2,
       "version_minor": 0
      },
      "text/plain": [
       "Button(description='Next Step', style=ButtonStyle())"
      ]
     },
     "metadata": {},
     "output_type": "display_data"
    },
    {
     "data": {
      "application/vnd.jupyter.widget-view+json": {
       "model_id": "5e2c57fb7acd4b3d878ef3741db2325f",
       "version_major": 2,
       "version_minor": 0
      },
      "text/plain": [
       "Output()"
      ]
     },
     "metadata": {},
     "output_type": "display_data"
    }
   ],
   "source": [
    "# Newton's Method with f(x) = x^2 - 2\n",
    "def f(x):\n",
    "    return x**2 - 2 # Define f(x)\n",
    "def f_prime(x):\n",
    "    return 2*x # Define f'(x)\n",
    "\n",
    "inital_guess = 2.5\n",
    "next_guess = None\n",
    "\n",
    "loop_count = 1\n",
    "graph_size = np.linspace(0, 3, 100) # Change size as you go \n",
    "\n",
    "def increment_loop_count(_):\n",
    "    global loop_count\n",
    "    global inital_guess\n",
    "    global next_guess\n",
    "    loop_count += 1\n",
    "    next_guess = newtons_method(inital_guess, f, f_prime, loop_count)\n",
    "    inital_guess = next_guess\n",
    "    update_display()\n",
    "\n",
    "def update_display():\n",
    "    with out:\n",
    "        clear_output(wait=True)\n",
    "        print(f\"Step Number {loop_count}\")\n",
    "        newtons_method_visualization(inital_guess, f, f_prime, loop_count)\n",
    "\n",
    "# Create a button and display it\n",
    "button = widgets.Button(description=\"Next Step\")\n",
    "button.on_click(increment_loop_count)\n",
    "\n",
    "# Create an output widget to display the loop count\n",
    "out = widgets.Output()\n",
    "\n",
    "# Display the button and output widget\n",
    "display(button, out)\n",
    "\n",
    "# Display initial loop count\n",
    "update_display()"
   ]
  },
  {
   "cell_type": "markdown",
   "metadata": {},
   "source": [
    "## Run Newton's Method with the following example functions and initial guesses - What do you observe?\n",
    "\n",
    "$$f(x) = 2x^5 + 10x^2 - 10x + 4$$\n",
    "Try initial Guess:\n",
    "$$x = -2$$\n",
    "and\n",
    "$$x = 2$$"
   ]
  },
  {
   "cell_type": "code",
   "execution_count": 7,
   "metadata": {},
   "outputs": [
    {
     "data": {
      "application/vnd.jupyter.widget-view+json": {
       "model_id": "74e59ca309e248e78a0fe7ca8153b720",
       "version_major": 2,
       "version_minor": 0
      },
      "text/plain": [
       "Button(description='Next Step', style=ButtonStyle())"
      ]
     },
     "metadata": {},
     "output_type": "display_data"
    },
    {
     "data": {
      "application/vnd.jupyter.widget-view+json": {
       "model_id": "d0e629e1ffe343b9a3040ce443a5f4a7",
       "version_major": 2,
       "version_minor": 0
      },
      "text/plain": [
       "Output()"
      ]
     },
     "metadata": {},
     "output_type": "display_data"
    }
   ],
   "source": [
    "def f(x):\n",
    "    return 2*x**5 + 10*x**2 - 10 * x + 4\n",
    "def f_prime(x):\n",
    "    return 10*x**4 + 20*x - 10\n",
    "\n",
    "inital_guess = 2 # play with this initial guess \n",
    "next_guess = None\n",
    "\n",
    "loop_count = 1\n",
    "graph_size = np.linspace(-2, 2, 100)\n",
    "\n",
    "def increment_loop_count(_):\n",
    "    global loop_count\n",
    "    global inital_guess\n",
    "    global next_guess\n",
    "    loop_count += 1\n",
    "    next_guess = newtons_method(inital_guess, f, f_prime, loop_count)\n",
    "    inital_guess = next_guess\n",
    "    update_display()\n",
    "\n",
    "def update_display():\n",
    "    with out:\n",
    "        clear_output(wait=True)\n",
    "        print(f\"Step Number {loop_count}\")\n",
    "        newtons_method_visualization(inital_guess, f, f_prime, loop_count, graph_size)\n",
    "\n",
    "# Create a button and display it\n",
    "button = widgets.Button(description=\"Next Step\")\n",
    "button.on_click(increment_loop_count)\n",
    "\n",
    "# Create an output widget to display the loop count\n",
    "out = widgets.Output()\n",
    "\n",
    "# Display the button and output widget\n",
    "display(button, out)\n",
    "\n",
    "# Display initial loop count\n",
    "update_display()\n",
    "\n"
   ]
  },
  {
   "cell_type": "markdown",
   "metadata": {},
   "source": [
    "## Newton's Method for Optimizing \n",
    "\n",
    "Key point: The local optimum of f(x) occurs when f'(x) = 0. So to find the potential optimal solutions (or THE OPTIMAL minimum WHEN f(x) is convex), use Newton's Method to find the root of f'(x). \n"
   ]
  },
  {
   "cell_type": "code",
   "execution_count": 8,
   "metadata": {},
   "outputs": [
    {
     "data": {
      "application/vnd.jupyter.widget-view+json": {
       "model_id": "86fae83a782c49288c431e3a651934ca",
       "version_major": 2,
       "version_minor": 0
      },
      "text/plain": [
       "Button(description='Next Step', style=ButtonStyle())"
      ]
     },
     "metadata": {},
     "output_type": "display_data"
    },
    {
     "data": {
      "application/vnd.jupyter.widget-view+json": {
       "model_id": "51ef0b1ac2dd4c2b924286cd36c33b68",
       "version_major": 2,
       "version_minor": 0
      },
      "text/plain": [
       "Output()"
      ]
     },
     "metadata": {},
     "output_type": "display_data"
    }
   ],
   "source": [
    "import numpy as np\n",
    "import matplotlib.pyplot as plt\n",
    "\n",
    "def f(x):\n",
    "    return x**4 - 3*(x**3) + (x**2) + 3*x -2\n",
    "\n",
    "def f_prime(x):\n",
    "    return 4*(x**3) - 9*(x**2) + 2*x + 3\n",
    "\n",
    "def f_prime_prime(x):\n",
    "    return 12*(x**2) - 18*x + 2\n",
    "\n",
    "\n",
    "def newton_optimization_visualization(initial_guess, f, f_prime, iteration, x_range=np.linspace(0,0,0)):\n",
    "    x_values = [initial_guess]\n",
    "    \n",
    "    current_x = x_values[-1]\n",
    "    current_y = f(current_x)\n",
    "    current_slope = f_prime(current_x)\n",
    "\n",
    "    # Plotting the function and its derivative\n",
    "    if not x_range.any():\n",
    "        x_range = np.linspace(current_x - 2, current_x + 2, 100)\n",
    "    y_values = f(x_range)\n",
    "    y_prime_values = f_prime(x_range)\n",
    "    \n",
    "    plt.plot(x_range, y_values, label='Function')\n",
    "    plt.plot(x_range, y_prime_values, label='Derivative')\n",
    "    \n",
    "    plt.scatter(current_x, current_y, color='red', marker='o', label=f'{current_x, current_y}')\n",
    "    plt.scatter(current_x, current_slope, color='blue', marker='o')\n",
    "    plt.axhline(0, color='black', linestyle='--', linewidth=0.5)\n",
    "    \n",
    "    plt.title(f'Newton\\'s Method Visualization - Iteration {iteration}')\n",
    "    plt.xlabel('x')\n",
    "    plt.ylabel('f(x)')\n",
    "    plt.legend()\n",
    "    plt.grid(True)\n",
    "    plt.show()\n",
    "\n",
    "inital_guess = -1 # play with this initial guess \n",
    "next_guess = None\n",
    "\n",
    "loop_count = 1\n",
    "graph_size = np.linspace(-1, 2, 100)\n",
    "\n",
    "def increment_loop_count(_):\n",
    "    global loop_count\n",
    "    global inital_guess\n",
    "    global next_guess\n",
    "    loop_count += 1\n",
    "    next_guess = newtons_method(inital_guess, f_prime, f_prime_prime, loop_count)\n",
    "    inital_guess = next_guess\n",
    "    update_display()\n",
    "\n",
    "def update_display():\n",
    "    with out:\n",
    "        clear_output(wait=True)\n",
    "        print(f\"Step Number {loop_count}\")\n",
    "        newton_optimization_visualization(inital_guess, f, f_prime, loop_count, x_range=graph_size)\n",
    "\n",
    "# Create a button and display it\n",
    "button = widgets.Button(description=\"Next Step\")\n",
    "button.on_click(increment_loop_count)\n",
    "\n",
    "# Create an output widget to display the loop count\n",
    "out = widgets.Output()\n",
    "\n",
    "# Display the button and output widget\n",
    "display(button, out)\n",
    "\n",
    "# Display initial loop count\n",
    "update_display()\n",
    "\n",
    "\n",
    "\n"
   ]
  },
  {
   "cell_type": "code",
   "execution_count": 9,
   "metadata": {},
   "outputs": [],
   "source": [
    "import numpy as np\n",
    "import matplotlib.pyplot as plt\n",
    "from mpl_toolkits.mplot3d import Axes3D\n",
    "from pylab import meshgrid\n",
    "\n",
    "# Define the two-variable function and its gradient\n",
    "def function(x, y):\n",
    "    return np.sin(1/2 * x**2 - 1/4 * y**2 + 3) * np.cos(2 * x + 1 - np.e**y)\n",
    "\n",
    "def partial_x(x, y):\n",
    "    return x * np.cos(1/2 * x**2 - 1/4 * y**2 + 3) * np.cos(2 * x + 1 - np.e**y) - 2 * np.sin(1/2 * x**2 - 1/4 * y**2 + 3) * np.sin(2 * x + 1 - np.e**y)\n",
    "\n",
    "def partial_y(x, y):\n",
    "    return -1/2 * y * np.cos(1/2 * x**2 - 1/4 * y**2 + 3) * np.cos(2 * x + 1 - np.e**y) + np.e**y * np.sin(1/2 * x**2 - 1/4 * y**2 + 3) * np.sin(2 * x + 1 - np.e**y)\n",
    "\n",
    "def gradient(x, y):\n",
    "    df_dx = partial_x(x,y)\n",
    "    df_dy = partial_y(x,y)\n",
    "    return np.array([df_dx, df_dy])\n",
    "\n",
    "# Newton's method for two variables\n",
    "def newton_method_2d(initial_guess, learning_rate, tolerance=1e-6, max_iterations=100):\n",
    "    point_x = initial_guess[0]\n",
    "    point_y = initial_guess[1]\n",
    "    all_x = [initial_guess[0],]\n",
    "    all_y = [initial_guess[1],]\n",
    "    for _ in range(max_iterations):\n",
    "        grad = gradient(point_x, point_y)\n",
    "\n",
    "        # Avoid division by nearly zero\n",
    "        if np.linalg.norm(grad) < tolerance:\n",
    "            break\n",
    "\n",
    "        point_x = point_x - learning_rate * partial_x(point_x, point_y)\n",
    "        point_y = point_y - learning_rate * partial_y(point_x, point_y)\n",
    "\n",
    "        all_x.append(point_x)\n",
    "        all_y.append(point_y)\n",
    "        # Check for convergence\n",
    "        if np.linalg.norm(gradient(point_x, point_y)) < tolerance:\n",
    "            break\n",
    "\n",
    "    return point_x, all_x, all_y\n",
    "\n",
    "def plot_2d(point_x, point_y):\n",
    "    # Domain of function\n",
    "    x = np.arange(-1.5, 1.6, 0.01)\n",
    "    y = np.arange(-1.5, 1.6, 0.01)\n",
    "\n",
    "    # Creating (x, y) pairs and calculating Z coordiante\n",
    "    X, Y = meshgrid(x, y)\n",
    "    Z = function(X, Y)\n",
    "\n",
    "    # Plot function\n",
    "    fig = plt.figure(figsize = (20, 8))\n",
    "    ax = fig.add_subplot(1, 2, 1, projection = '3d')\n",
    "    ax.plot_surface(X, Y, Z, cmap = 'twilight')\n",
    "    ax.view_init(25, 100)\n",
    "    ax.plot(point_x, point_y, function(point_x, point_y), marker = '.', linestyle = 'None', color = 'r', markersize = 10, zorder = 2.5)\n",
    "    ax.set_xlabel('X'); ax.set_ylabel('Y'); ax.set_zlabel('Z')\n",
    "\n",
    "    plt.show()"
   ]
  },
  {
   "cell_type": "code",
   "execution_count": 10,
   "metadata": {},
   "outputs": [
    {
     "data": {
      "application/vnd.jupyter.widget-view+json": {
       "model_id": "fe4db3e574a84bfcb378d50e0f8c3348",
       "version_major": 2,
       "version_minor": 0
      },
      "text/plain": [
       "Button(description='Next Step', style=ButtonStyle())"
      ]
     },
     "metadata": {},
     "output_type": "display_data"
    },
    {
     "data": {
      "application/vnd.jupyter.widget-view+json": {
       "model_id": "65e65c3ae499405d9e035ab358c67cd0",
       "version_major": 2,
       "version_minor": 0
      },
      "text/plain": [
       "Output()"
      ]
     },
     "metadata": {},
     "output_type": "display_data"
    }
   ],
   "source": [
    "initial_guess = [0.5, -0.5] # play with this initial guess \n",
    "point, all_x, all_y = newton_method_2d(initial_guess, learning_rate=0.7)\n",
    "\n",
    "loop_count = 1\n",
    "\n",
    "def increment_loop_count(_):\n",
    "    global loop_count\n",
    "    loop_count += 1\n",
    "    update_display()\n",
    "\n",
    "def update_display():\n",
    "    with out:\n",
    "        clear_output(wait=True)\n",
    "        print(f\"Step Number {loop_count}\")\n",
    "        plot_2d(all_x[loop_count], all_y[loop_count])\n",
    "\n",
    "# Create a button and display it\n",
    "button = widgets.Button(description=\"Next Step\")\n",
    "button.on_click(increment_loop_count)\n",
    "\n",
    "# Create an output widget to display the loop count\n",
    "out = widgets.Output()\n",
    "\n",
    "# Display the button and output widget\n",
    "display(button, out)\n",
    "\n",
    "# Display initial loop count\n",
    "update_display()\n",
    "\n"
   ]
  },
  {
   "cell_type": "code",
   "execution_count": null,
   "metadata": {},
   "outputs": [],
   "source": []
  }
 ],
 "metadata": {
  "kernelspec": {
   "display_name": "Python 3 (ipykernel)",
   "language": "python",
   "name": "python3"
  },
  "language_info": {
   "codemirror_mode": {
    "name": "ipython",
    "version": 3
   },
   "file_extension": ".py",
   "mimetype": "text/x-python",
   "name": "python",
   "nbconvert_exporter": "python",
   "pygments_lexer": "ipython3",
   "version": "3.10.0"
  }
 },
 "nbformat": 4,
 "nbformat_minor": 2
}
